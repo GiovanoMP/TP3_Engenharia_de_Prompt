{
 "cells": [
  {
   "cell_type": "markdown",
   "metadata": {},
   "source": [
    "1 - Desenvolva um prompt que utilize few-shot learning para classificar comentários como “Positivos”, “Neutros” ou “Negativos”. Inclua três exemplos de cada categoria no prompt e solicite ao LLM que classifique a frase \"Este episódio é divertido, mas não tão bom quanto os antigos.\". Interprete o resultado."
   ]
  },
  {
   "cell_type": "code",
   "execution_count": 5,
   "metadata": {},
   "outputs": [],
   "source": [
    "# Importações necessárias\n",
    "import os\n",
    "from dotenv import load_dotenv\n",
    "import google.generativeai as genai\n",
    "\n",
    "# Carregar e configurar a API\n",
    "load_dotenv()\n",
    "genai.configure(api_key=os.getenv(\"GOOGLE_API_KEY\"))"
   ]
  },
  {
   "cell_type": "markdown",
   "metadata": {},
   "source": [
    "## Etapa 2: Definição dos Exemplos de Treinamento\n",
    "Aqui definimos três exemplos para cada categoria (positivo, neutro, negativo) que serão usados no few-shot learning"
   ]
  },
  {
   "cell_type": "code",
   "execution_count": 6,
   "metadata": {},
   "outputs": [],
   "source": [
    "# Exemplos de treinamento organizados por categoria\n",
    "training_examples = {\n",
    "    \"positivos\": [\n",
    "        \"Adorei o filme, foi incrível do início ao fim!\",\n",
    "        \"A atuação do elenco foi excepcional, superou minhas expectativas.\",\n",
    "        \"Uma experiência maravilhosa, recomendo fortemente.\"\n",
    "    ],\n",
    "    \"neutros\": [\n",
    "        \"O filme é ok, nada especial.\",\n",
    "        \"Tem seus momentos bons e ruins.\",\n",
    "        \"É um filme comum, serve para passar o tempo.\"\n",
    "    ],\n",
    "    \"negativos\": [\n",
    "        \"Não gostei nada do filme, perda de tempo.\",\n",
    "        \"A história é confusa e mal desenvolvida.\",\n",
    "        \"Decepcionante em todos os aspectos.\"\n",
    "    ]\n",
    "}"
   ]
  },
  {
   "cell_type": "markdown",
   "metadata": {},
   "source": [
    "## Etapa 3: Implementação do Classificador\n",
    "Criação das funções para gerar o prompt e classificar o sentimento"
   ]
  },
  {
   "cell_type": "code",
   "execution_count": 7,
   "metadata": {},
   "outputs": [],
   "source": [
    "def create_prompt(text_to_classify):\n",
    "    \"\"\"\n",
    "    Cria o prompt com exemplos de few-shot learning e o texto a ser classificado\n",
    "    \"\"\"\n",
    "    prompt = \"Você é um classificador de sentimentos. Classifique o comentário apenas como 'Positivo', 'Neutro' ou 'Negativo'.\\n\\n\"\n",
    "    \n",
    "    # Adicionar exemplos de treinamento\n",
    "    for category in training_examples:\n",
    "        prompt += f\"\\nExemplos de comentários {category.title()}:\\n\"\n",
    "        for example in training_examples[category]:\n",
    "            prompt += f\"Texto: '{example}'\\nClassificação: {category.title()}\\n\"\n",
    "    \n",
    "    # Adicionar texto a ser classificado\n",
    "    prompt += f\"\\nClassifique o seguinte texto:\\n'{text_to_classify}'\\nClassificação:\"\n",
    "    \n",
    "    return prompt\n",
    "\n",
    "def classify_sentiment(text):\n",
    "    \"\"\"\n",
    "    Classifica o sentimento do texto usando o modelo do Google\n",
    "    \"\"\"\n",
    "    # Criar o prompt com os exemplos e o texto\n",
    "    prompt = create_prompt(text)\n",
    "    \n",
    "    # Configurar o modelo\n",
    "    model = genai.GenerativeModel('gemini-pro')\n",
    "    \n",
    "    # Fazer a classificação\n",
    "    response = model.generate_content(prompt)\n",
    "    \n",
    "    return response.text.strip()"
   ]
  },
  {
   "cell_type": "code",
   "execution_count": 8,
   "metadata": {},
   "outputs": [
    {
     "name": "stdout",
     "output_type": "stream",
     "text": [
      "Texto para classificação: Este episódio é divertido, mas não tão bom quanto os antigos.\n",
      "\n",
      "Classificando...\n",
      "\n",
      "Resultado da classificação: Neutro\n"
     ]
    }
   ],
   "source": [
    "# Texto de exemplo para classificação\n",
    "texto_teste = \"Este episódio é divertido, mas não tão bom quanto os antigos.\"\n",
    "\n",
    "print(\"Texto para classificação:\", texto_teste)\n",
    "print(\"\\nClassificando...\")\n",
    "\n",
    "# Realizar a classificação\n",
    "resultado = classify_sentiment(texto_teste)\n",
    "print(\"\\nResultado da classificação:\", resultado)"
   ]
  },
  {
   "cell_type": "code",
   "execution_count": 13,
   "metadata": {},
   "outputs": [
    {
     "name": "stdout",
     "output_type": "stream",
     "text": [
      "Texto para classificação: A nova atualização do sistema trouxe melhorias significativas no desempenho e corrigiu todos os bugs anteriores!\n",
      "\n",
      "Classificando...\n",
      "\n",
      "Resultado da classificação: Positivo\n",
      "\n",
      "==================================================\n",
      "\n"
     ]
    }
   ],
   "source": [
    "# Exemplo que tende ao positivo\n",
    "texto_teste_2 = \"A nova atualização do sistema trouxe melhorias significativas no desempenho e corrigiu todos os bugs anteriores!\"\n",
    "\n",
    "print(\"Texto para classificação:\", texto_teste_2)\n",
    "print(\"\\nClassificando...\")\n",
    "resultado_2 = classify_sentiment(texto_teste_2)\n",
    "print(\"\\nResultado da classificação:\", resultado_2)\n",
    "\n",
    "print(\"\\n\" + \"=\"*50 + \"\\n\")\n"
   ]
  },
  {
   "cell_type": "code",
   "execution_count": 14,
   "metadata": {},
   "outputs": [
    {
     "name": "stdout",
     "output_type": "stream",
     "text": [
      "Texto para classificação: O sistema está muito lento após a atualização e vários recursos importantes pararam de funcionar completamente.\n",
      "\n",
      "Classificando...\n",
      "\n",
      "Resultado da classificação: Negativo\n"
     ]
    }
   ],
   "source": [
    "# Exemplo que tende ao negativo\n",
    "texto_teste_3 = \"O sistema está muito lento após a atualização e vários recursos importantes pararam de funcionar completamente.\"\n",
    "\n",
    "print(\"Texto para classificação:\", texto_teste_3)\n",
    "print(\"\\nClassificando...\")\n",
    "resultado_3 = classify_sentiment(texto_teste_3)\n",
    "print(\"\\nResultado da classificação:\", resultado_3)"
   ]
  }
 ],
 "metadata": {
  "kernelspec": {
   "display_name": "venv",
   "language": "python",
   "name": "python3"
  },
  "language_info": {
   "codemirror_mode": {
    "name": "ipython",
    "version": 3
   },
   "file_extension": ".py",
   "mimetype": "text/x-python",
   "name": "python",
   "nbconvert_exporter": "python",
   "pygments_lexer": "ipython3",
   "version": "3.12.6"
  }
 },
 "nbformat": 4,
 "nbformat_minor": 2
}
