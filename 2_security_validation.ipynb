{
 "cells": [
  {
   "cell_type": "markdown",
   "metadata": {},
   "source": [
    "# Exercício 2: Validação de Entradas e Saídas para Segurança\n",
    "\n",
    "Este notebook implementa um sistema de validação de entradas usando LLM para identificar e responder apropriadamente a consultas potencialmente perigosas ou antiéticas.\n",
    "\n",
    "## Elementos do Prompt\n",
    "1. **Persona**: Especialista em ética e segurança\n",
    "2. **Contexto**: Validação de segurança e ética\n",
    "3. **Formato**: Estruturado com regras claras\n",
    "4. **Exemplos**: Few-shot learning com casos seguros e não seguros"
   ]
  },
  {
   "cell_type": "code",
   "execution_count": null,
   "metadata": {
    "vscode": {
     "languageId": "plaintext"
    }
   },
   "outputs": [],
   "source": []
  }
 ],
 "metadata": {
  "language_info": {
   "name": "python"
  }
 },
 "nbformat": 4,
 "nbformat_minor": 2
}
